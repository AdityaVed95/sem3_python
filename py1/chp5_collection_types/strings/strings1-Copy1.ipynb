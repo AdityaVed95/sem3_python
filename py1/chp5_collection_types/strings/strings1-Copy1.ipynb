{
 "cells": [
  {
   "cell_type": "code",
   "execution_count": 31,
   "id": "54ecbb7d-7232-4754-84bc-a036e3f4cd2f",
   "metadata": {},
   "outputs": [
    {
     "name": "stdout",
     "output_type": "stream",
     "text": [
      "139725207596336\n",
      "139724907669552\n",
      "139724907669552\n",
      "139724889264896\n"
     ]
    }
   ],
   "source": [
    "s = \"Hello\"\n",
    "print(id(s))\n",
    "s = s + \"There\"\n",
    "print(id(s))\n",
    "s = s + \"Now\"\n",
    "print(id(s))\n",
    "s = s + \"Here\"\n",
    "print(id(s))\n",
    "# note that the id mostly changes but it may not change , the python interpreter may try to optimize\n",
    "# so that it fits in more data at the same reference, \n",
    "# basically we cant expect(trust) the id to be the same\n"
   ]
  },
  {
   "cell_type": "markdown",
   "id": "3715e027-c4c5-467c-8d99-4c9941fc65f7",
   "metadata": {},
   "source": [
    "# join function :\n",
    "## thus we can pass list or tuple as the argument to the join function\n",
    "## basically the argument has to be a collection of strings\n",
    "# the join function returns a string\n",
    "# all the elements of lis1 and tup1 need to be strings or else there would be an error"
   ]
  },
  {
   "cell_type": "code",
   "execution_count": 17,
   "id": "66d10ce7-0506-474a-8874-682eeb1a201e",
   "metadata": {},
   "outputs": [
    {
     "name": "stdout",
     "output_type": "stream",
     "text": [
      "red :1: blue :1: green\n",
      "red :2: blue :2: green\n",
      "red :3: blue :3: green\n",
      "red :4: blue :4: green\n",
      "<class 'str'>\n",
      "<class 'str'>\n",
      "<class 'str'>\n",
      "<class 'str'>\n"
     ]
    }
   ],
   "source": [
    "colors = \" :1: \".join(['red', 'blue', 'green'])\n",
    "print(colors)\n",
    "colors2 = \" :2: \".join(('red', 'blue', 'green'))\n",
    "print(colors2)\n",
    "\n",
    "lis1 = ['red', 'blue', 'green']\n",
    "\n",
    "tup1 = ('red', 'blue', 'green')\n",
    "\n",
    "colors3 = \" :3: \".join(lis1)\n",
    "colors4 = \" :4: \".join(tup1)\n",
    "print(colors3)\n",
    "print(colors4)\n",
    "\n",
    "print(type(colors))\n",
    "print(type(colors2))\n",
    "print(type(colors3))\n",
    "print(type(colors4))\n"
   ]
  },
  {
   "cell_type": "code",
   "execution_count": 18,
   "id": "514b7066-f51b-4bcb-b2ea-ad72c386fb50",
   "metadata": {},
   "outputs": [
    {
     "ename": "TypeError",
     "evalue": "sequence item 2: expected str instance, int found",
     "output_type": "error",
     "traceback": [
      "\u001b[0;31m---------------------------------------------------------------------------\u001b[0m",
      "\u001b[0;31mTypeError\u001b[0m                                 Traceback (most recent call last)",
      "Input \u001b[0;32mIn [18]\u001b[0m, in \u001b[0;36m<cell line: 3>\u001b[0;34m()\u001b[0m\n\u001b[1;32m      1\u001b[0m test1 \u001b[38;5;241m=\u001b[39m [\u001b[38;5;124m\"\u001b[39m\u001b[38;5;124mhello\u001b[39m\u001b[38;5;124m\"\u001b[39m,\u001b[38;5;124m\"\u001b[39m\u001b[38;5;124mthere\u001b[39m\u001b[38;5;124m\"\u001b[39m,\u001b[38;5;241m95\u001b[39m]\n\u001b[0;32m----> 3\u001b[0m say \u001b[38;5;241m=\u001b[39m \u001b[38;5;124;43m\"\u001b[39;49m\u001b[38;5;124;43m:\u001b[39;49m\u001b[38;5;124;43m\"\u001b[39;49m\u001b[38;5;241;43m.\u001b[39;49m\u001b[43mjoin\u001b[49m\u001b[43m(\u001b[49m\u001b[43mtest1\u001b[49m\u001b[43m)\u001b[49m\n",
      "\u001b[0;31mTypeError\u001b[0m: sequence item 2: expected str instance, int found"
     ]
    }
   ],
   "source": [
    "test1 = [\"hello\", \"there\", 95]\n",
    "\n",
    "say = \":\".join(test1)\n"
   ]
  },
  {
   "cell_type": "markdown",
   "id": "64a63ea7-4024-4b72-a393-3c79fdac75e2",
   "metadata": {},
   "source": [
    "# split function :\n",
    "## it is used to split the strings \n",
    "## if we dont pass any arguments to it then it will split on the basis of the white space \n",
    "## splitting is done on the basis of the string we pass it \n"
   ]
  },
  {
   "cell_type": "code",
   "execution_count": 12,
   "id": "38e043cb-2ce5-4f99-9f72-4bfd7963f905",
   "metadata": {},
   "outputs": [
    {
     "name": "stdout",
     "output_type": "stream",
     "text": [
      "['red', 'blue', 'green', '95', '93']\n",
      "['red blue green 95 93']\n",
      "['red ', '2', ' blue ', '2', ' green']\n",
      "['red ', ' blue ', ' green']\n",
      "['Beans', 'Sprouts', 'Curd', 'Bread']\n",
      "['Beans', 'Sprouts', 'Curd', 'Bread']\n"
     ]
    }
   ],
   "source": [
    "colors = \"red blue green 95 93\"\n",
    "print(colors.split())\n",
    "\n",
    "colors2 = \"red :2: blue :2: green\"\n",
    "\n",
    "print(colors.split(\":\"))\n",
    "print(colors2.split(\":\"))\n",
    "print(colors2.split(\":2:\"))\n",
    "\n",
    "breakfast = \"BeansandSproutsandCurdandBread\"\n",
    "print(breakfast.split(\"and\"))\n",
    "\n",
    "breakfast2 = \"Beans_Sprouts_Curd_Bread\"\n",
    "print(breakfast2.split(\"_\"))"
   ]
  },
  {
   "cell_type": "markdown",
   "id": "9f9c8971-2f10-4c8b-b3b6-d2a892d53914",
   "metadata": {},
   "source": [
    "# Partition function ()\n",
    "## divides a string into three sections: the part before a separator, the separator itself, and the part after the separator:\n",
    "## returns a tuple\n",
    "##  commonly used in conjunction with tuple unpacking:"
   ]
  },
  {
   "cell_type": "code",
   "execution_count": 27,
   "id": "e4b92af4-1b33-4a12-8da0-fc73abf379c3",
   "metadata": {},
   "outputs": [
    {
     "name": "stdout",
     "output_type": "stream",
     "text": [
      "('Hello', 'There', 'Aditya')\n",
      "Enginerring:KJSCE\n",
      "\n",
      "\n",
      "<class 'str'>\n",
      "<class 'str'>\n",
      "<class 'str'>\n"
     ]
    }
   ],
   "source": [
    "string = \"HelloThereAditya\"\n",
    "print(string.partition(\"There\"))\n",
    "\n",
    "college, seperator, college_name = \"Enginerring:KJSCE\".partition(\"::\")\n",
    "print(college)\n",
    "print(seperator)\n",
    "print(college_name)\n",
    "print(type(college))\n",
    "print(type(seperator))\n",
    "print(type(college_name))"
   ]
  },
  {
   "cell_type": "code",
   "execution_count": 30,
   "id": "3f5a074b-5b9c-4d49-8f4e-b47259f5757b",
   "metadata": {},
   "outputs": [
    {
     "name": "stdout",
     "output_type": "stream",
     "text": [
      "Enginerring\n",
      "::\n",
      "KJSCE\n",
      "<class 'str'>\n",
      "<class 'str'>\n",
      "<class 'str'>\n"
     ]
    }
   ],
   "source": [
    "college, seperator, college_name = \"Enginerring::KJSCE\".partition(\"::\")\n",
    "print(college)\n",
    "print(seperator)\n",
    "print(college_name)\n",
    "\n",
    "print(type(college))\n",
    "print(type(seperator))\n",
    "print(type(college_name))\n",
    "\n",
    "# naming convention : use _ instead of seperator if seperator is unused or dummy"
   ]
  },
  {
   "cell_type": "markdown",
   "id": "5079ec43-d381-47fd-812d-883a40f2c380",
   "metadata": {},
   "source": [
    "## if the string on the basis of which the partition is to be performed is not found then there is only 1 element in the tuple returned and that element is the string which was passed itself\n"
   ]
  }
 ],
 "metadata": {
  "kernelspec": {
   "display_name": "Python 3 (ipykernel)",
   "language": "python",
   "name": "python3"
  },
  "language_info": {
   "codemirror_mode": {
    "name": "ipython",
    "version": 3
   },
   "file_extension": ".py",
   "mimetype": "text/x-python",
   "name": "python",
   "nbconvert_exporter": "python",
   "pygments_lexer": "ipython3",
   "version": "3.9.7"
  }
 },
 "nbformat": 4,
 "nbformat_minor": 5
}
